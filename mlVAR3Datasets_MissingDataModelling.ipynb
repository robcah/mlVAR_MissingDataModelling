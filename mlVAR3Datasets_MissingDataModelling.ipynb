{
 "cells": [
  {
   "cell_type": "code",
   "execution_count": 1,
   "id": "ff85dc29-1241-4117-91a9-722b2b26103e",
   "metadata": {
    "kernel": "SoS"
   },
   "outputs": [],
   "source": [
    "from os.path import join\n",
    "import pandas as pd\n",
    "import numpy as np\n",
    "\n",
    "import warnings\n",
    "warnings.filterwarnings(action='ignore')"
   ]
  },
  {
   "cell_type": "code",
   "execution_count": 4,
   "id": "334a29f5-c9ff-43ce-b01f-42dad9850f4b",
   "metadata": {
    "kernel": "SoS",
    "scrolled": true
   },
   "outputs": [
    {
     "data": {
      "text/html": [
       "<div>\n",
       "<style scoped>\n",
       "    .dataframe tbody tr th:only-of-type {\n",
       "        vertical-align: middle;\n",
       "    }\n",
       "\n",
       "    .dataframe tbody tr th {\n",
       "        vertical-align: top;\n",
       "    }\n",
       "\n",
       "    .dataframe thead th {\n",
       "        text-align: right;\n",
       "    }\n",
       "</style>\n",
       "<table border=\"1\" class=\"dataframe\">\n",
       "  <thead>\n",
       "    <tr style=\"text-align: right;\">\n",
       "      <th></th>\n",
       "      <th>dataset</th>\n",
       "      <th>participant_id</th>\n",
       "      <th>encounter_date</th>\n",
       "      <th>day_n</th>\n",
       "      <th>hopelessness</th>\n",
       "      <th>depression</th>\n",
       "      <th>voices</th>\n",
       "      <th>visions</th>\n",
       "      <th>anxiety</th>\n",
       "      <th>paranoia</th>\n",
       "      <th>delusions</th>\n",
       "    </tr>\n",
       "  </thead>\n",
       "  <tbody>\n",
       "    <tr>\n",
       "      <th>0</th>\n",
       "      <td>clintouch</td>\n",
       "      <td>10142</td>\n",
       "      <td>2018-08-09</td>\n",
       "      <td>1</td>\n",
       "      <td>4.5</td>\n",
       "      <td>2.25</td>\n",
       "      <td>1.5</td>\n",
       "      <td>1.0</td>\n",
       "      <td>2.25</td>\n",
       "      <td>1.75</td>\n",
       "      <td>1.0</td>\n",
       "    </tr>\n",
       "    <tr>\n",
       "      <th>1</th>\n",
       "      <td>clintouch</td>\n",
       "      <td>10142</td>\n",
       "      <td>2018-08-10</td>\n",
       "      <td>2</td>\n",
       "      <td>7.0</td>\n",
       "      <td>2.00</td>\n",
       "      <td>1.0</td>\n",
       "      <td>1.0</td>\n",
       "      <td>3.00</td>\n",
       "      <td>2.25</td>\n",
       "      <td>1.0</td>\n",
       "    </tr>\n",
       "    <tr>\n",
       "      <th>2</th>\n",
       "      <td>clintouch</td>\n",
       "      <td>10142</td>\n",
       "      <td>2018-08-11</td>\n",
       "      <td>3</td>\n",
       "      <td>7.0</td>\n",
       "      <td>3.00</td>\n",
       "      <td>1.0</td>\n",
       "      <td>1.0</td>\n",
       "      <td>2.00</td>\n",
       "      <td>5.50</td>\n",
       "      <td>1.0</td>\n",
       "    </tr>\n",
       "    <tr>\n",
       "      <th>3</th>\n",
       "      <td>clintouch</td>\n",
       "      <td>10142</td>\n",
       "      <td>2018-08-12</td>\n",
       "      <td>4</td>\n",
       "      <td>7.0</td>\n",
       "      <td>2.00</td>\n",
       "      <td>1.0</td>\n",
       "      <td>1.0</td>\n",
       "      <td>1.00</td>\n",
       "      <td>1.75</td>\n",
       "      <td>1.5</td>\n",
       "    </tr>\n",
       "    <tr>\n",
       "      <th>4</th>\n",
       "      <td>clintouch</td>\n",
       "      <td>10142</td>\n",
       "      <td>2018-08-13</td>\n",
       "      <td>5</td>\n",
       "      <td>7.0</td>\n",
       "      <td>2.00</td>\n",
       "      <td>1.0</td>\n",
       "      <td>1.0</td>\n",
       "      <td>1.00</td>\n",
       "      <td>1.50</td>\n",
       "      <td>1.5</td>\n",
       "    </tr>\n",
       "  </tbody>\n",
       "</table>\n",
       "</div>"
      ],
      "text/plain": [
       "     dataset  participant_id encounter_date  day_n  hopelessness  depression  \\\n",
       "0  clintouch           10142     2018-08-09      1           4.5        2.25   \n",
       "1  clintouch           10142     2018-08-10      2           7.0        2.00   \n",
       "2  clintouch           10142     2018-08-11      3           7.0        3.00   \n",
       "3  clintouch           10142     2018-08-12      4           7.0        2.00   \n",
       "4  clintouch           10142     2018-08-13      5           7.0        2.00   \n",
       "\n",
       "   voices  visions  anxiety  paranoia  delusions  \n",
       "0     1.5      1.0     2.25      1.75        1.0  \n",
       "1     1.0      1.0     3.00      2.25        1.0  \n",
       "2     1.0      1.0     2.00      5.50        1.0  \n",
       "3     1.0      1.0     1.00      1.75        1.5  \n",
       "4     1.0      1.0     1.00      1.50        1.5  "
      ]
     },
     "metadata": {},
     "output_type": "display_data"
    },
    {
     "data": {
      "text/plain": [
       "dataset                   object\n",
       "participant_id             int64\n",
       "encounter_date    datetime64[ns]\n",
       "day_n                      int64\n",
       "hopelessness             float64\n",
       "depression               float64\n",
       "voices                   float64\n",
       "visions                  float64\n",
       "anxiety                  float64\n",
       "paranoia                 float64\n",
       "delusions                float64\n",
       "dtype: object"
      ]
     },
     "metadata": {},
     "output_type": "display_data"
    },
    {
     "data": {
      "text/plain": [
       "(4467, 11)"
      ]
     },
     "metadata": {},
     "output_type": "display_data"
    }
   ],
   "source": [
    "in_folder = r'..\\..\\..\\..\\BRC - Digital Programme\\NetworkAnalysis\\BRC_RC\\CleanData'\n",
    "in_file = 'BRC_data_wide_BlanchardSchumacherProtocol.csv'\n",
    "in_path = join(in_folder, in_file)\n",
    "\n",
    "# To load\n",
    "constructs_data = pd.read_csv(in_path,\n",
    "                              parse_dates=[2],\n",
    "                             )\n",
    "display(constructs_data.head(),\n",
    "        constructs_data.dtypes,\n",
    "        constructs_data.shape,\n",
    "       )"
   ]
  },
  {
   "cell_type": "code",
   "execution_count": 5,
   "id": "f6d88e50-c33e-44c2-877e-3ceb0da9528e",
   "metadata": {
    "kernel": "SoS"
   },
   "outputs": [],
   "source": [
    "def ContinousBlocks(df):\n",
    "    cb = (pd\n",
    "          .Series([1\n",
    "                   if np.isnan(d)\n",
    "                   else 0\n",
    "                   for d\n",
    "                   in df.day_n\n",
    "                  ]\n",
    "                 )\n",
    "         )\n",
    "    return cb"
   ]
  },
  {
   "cell_type": "code",
   "execution_count": 6,
   "id": "00eb7f4a-3d4c-4fe4-a058-b78383e9840e",
   "metadata": {
    "kernel": "SoS"
   },
   "outputs": [],
   "source": [
    "def MaxDays(df,\n",
    "            # study_length,\n",
    "            final_buffer=42,\n",
    "           ):\n",
    "\n",
    "    study_length = {'clintouch': 84,\n",
    "                    'careloop': 84,\n",
    "                    'empower': 365,\n",
    "                   }\n",
    "    OffSet = pd.DateOffset\n",
    "    dataset = df.dataset.values[0]\n",
    "    min_date, last_date = (df\n",
    "                           .encounter_date\n",
    "                           .sort_values()\n",
    "                           .values\n",
    "                           [[0,-1]]\n",
    "                          )\n",
    "    theoretical_max = (min_date\n",
    "                       +OffSet(study_length\n",
    "                               [dataset]\n",
    "                              )\n",
    "                      )\n",
    "    encounters_length = ((last_date-min_date)\n",
    "                         .astype('timedelta64[D]')\n",
    "                         .astype(int)\n",
    "                        )\n",
    "    max_date = (min(last_date+OffSet(final_buffer),\n",
    "                    theoretical_max,\n",
    "                   )\n",
    "                if (encounters_length\n",
    "                    <= study_length[dataset]\n",
    "                   )\n",
    "                else\n",
    "                last_date\n",
    "               )\n",
    "    date_range = pd.date_range(min_date,\n",
    "                               max_date,\n",
    "                              )\n",
    "    max_days = (pd\n",
    "                .DataFrame({'encounter_date':date_range,\n",
    "                           },\n",
    "                          )\n",
    "               )\n",
    "\n",
    "    return max_days"
   ]
  },
  {
   "cell_type": "code",
   "execution_count": 7,
   "id": "178afebd-ba9e-4b17-bfad-5219fcdc4c6a",
   "metadata": {
    "kernel": "SoS"
   },
   "outputs": [],
   "source": [
    "def MissedEncounters(continous_blocks,\n",
    "                     incremental_step=0.5,\n",
    "                     min_scale_lim=1,\n",
    "                     max_scale_lim=7,\n",
    "                    ):\n",
    "    # expanding window calculations:\n",
    "    # similar to rolling but the window\n",
    "    # increases till including the whole array\n",
    "    me = (continous_blocks\n",
    "          .expanding()\n",
    "          # if value of 1 leaves incremental\n",
    "          # values otherwise it leaves the value\n",
    "          # in array\n",
    "          .apply(lambda s:\n",
    "                 s.replace(to_replace=1,\n",
    "                           method='bfill',\n",
    "                          )\n",
    "                 .sum()\n",
    "                 *incremental_step\n",
    "                )\n",
    "           )\n",
    "\n",
    "    # limits to 7 to match\n",
    "    # Likert's scale\n",
    "    me = me.map(lambda x: min_scale_lim\n",
    "                if x<incremental_step\n",
    "                else min(x,\n",
    "                         max_scale_lim-1\n",
    "                        )+1,\n",
    "               )\n",
    "    return me"
   ]
  },
  {
   "cell_type": "code",
   "execution_count": 8,
   "id": "7aadac98-a3f8-4ba4-95bf-ef4b47338397",
   "metadata": {
    "kernel": "SoS"
   },
   "outputs": [],
   "source": [
    "def Disengagement(missed_encounters):\n",
    "    d = (missed_encounters.map(lambda x:\n",
    "                                 1 if x<7\n",
    "                                 else 7\n",
    "                                )\n",
    "                          )\n",
    "\n",
    "    return d"
   ]
  },
  {
   "cell_type": "code",
   "execution_count": 9,
   "id": "da10e9b0-82b9-4874-8805-d08d0797ce47",
   "metadata": {
    "kernel": "SoS"
   },
   "outputs": [],
   "source": [
    "identifier= 'B'\n",
    "constructs_data.participant_id = (constructs_data\n",
    "                                  .participant_id\n",
    "                                  .astype(int)\n",
    "                                 )\n",
    "data = []\n",
    "datasets, participants, _ = (constructs_data[['dataset',\n",
    "                                              'participant_id',\n",
    "                                             ]]\n",
    "                             .value_counts()\n",
    "                             .reset_index()\n",
    "                             .T\n",
    "                             .values\n",
    "                            )\n",
    "for participant, df in (constructs_data\n",
    "                        .groupby('participant_id'\n",
    "                                )\n",
    "                       ):\n",
    "    max_days=MaxDays(df,\n",
    "                 final_buffer=42,\n",
    "                )\n",
    "    df = (max_days\n",
    "          .merge(df,\n",
    "                 on=\"encounter_date\",\n",
    "                 how='outer',\n",
    "                )\n",
    "         )\n",
    "\n",
    "    # This part identified the continous gap blocks\n",
    "    continous_blocks = ContinousBlocks(df)\n",
    "    df['missed_encounters'] = MissedEncounters(continous_blocks)\n",
    "    # This part add the _disengagement_ construct\n",
    "    df['disengagement'] = Disengagement(df['missed_encounters'])\n",
    "    # imputate the whole df with last values first\n",
    "    # then with las value for the first value in the ts\n",
    "    for method in ['ffill', 'bfill']:\n",
    "        (df\n",
    "         .fillna(method=method,\n",
    "                 inplace=True\n",
    "                )\n",
    "        )\n",
    "    df['day_n'] = np.arange(df.shape[0])+1\n",
    "    df.participant_id = df.participant_id.astype(int)\n",
    "    data.append(df)\n",
    "\n",
    "df_plussynthetics = pd.concat(data)"
   ]
  },
  {
   "cell_type": "code",
   "execution_count": 10,
   "id": "7e8c1e95-5598-48cd-9a27-09ec54713719",
   "metadata": {
    "kernel": "SoS"
   },
   "outputs": [],
   "source": [
    "out_folder = r'.'\n",
    "(df_plussynthetics\n",
    " .to_csv(join(out_folder,\n",
    "              f'Originals+Synthetics.csv',\n",
    "             ),\n",
    "         index=False,\n",
    "        )\n",
    ")"
   ]
  },
  {
   "cell_type": "code",
   "execution_count": null,
   "id": "f7d622f0-78f1-4a7b-8bad-b71c002fe70c",
   "metadata": {},
   "outputs": [],
   "source": []
  },
  {
   "cell_type": "code",
   "execution_count": null,
   "id": "ab8b3382-327b-4f13-a693-27e43ca09550",
   "metadata": {},
   "outputs": [],
   "source": []
  }
 ],
 "metadata": {
  "kernelspec": {
   "display_name": "Python 3 (ipykernel)",
   "language": "python",
   "name": "python3"
  },
  "language_info": {
   "codemirror_mode": {
    "name": "ipython",
    "version": 3
   },
   "file_extension": ".py",
   "mimetype": "text/x-python",
   "name": "python",
   "nbconvert_exporter": "python",
   "pygments_lexer": "ipython3",
   "version": "3.13.7"
  },
  "sos": {
   "kernels": [
    [
     "R",
     "ir",
     "R",
     "#DCDCDA",
     "r"
    ],
    [
     "SoS",
     "sos",
     "sos",
     "",
     "sos"
    ]
   ],
   "version": ""
  }
 },
 "nbformat": 4,
 "nbformat_minor": 5
}
